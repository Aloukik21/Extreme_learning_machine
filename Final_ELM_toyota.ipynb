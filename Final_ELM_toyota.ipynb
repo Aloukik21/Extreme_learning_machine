{
 "cells": [
  {
   "cell_type": "markdown",
   "metadata": {
    "colab_type": "text",
    "id": "rg56eB_N7BP5"
   },
   "source": [
    "# **Classification of Fuel type of the car (Petrol or Diesel) using EXTREME LEARNING MACHINE**"
   ]
  },
  {
   "cell_type": "code",
   "execution_count": 1151,
   "metadata": {
    "colab": {},
    "colab_type": "code",
    "id": "VgX70Oay63FN"
   },
   "outputs": [],
   "source": [
    "import pandas as pd\n",
    "import numpy as np\n",
    "import math\n",
    "from sklearn.preprocessing import OneHotEncoder\n",
    "from sklearn.metrics import accuracy_score\n",
    "import time\n",
    "from sklearn.metrics import mean_squared_error\n",
    "import statistics\n",
    "from sklearn.model_selection import train_test_split\n",
    "from sklearn.preprocessing import LabelEncoder"
   ]
  },
  {
   "cell_type": "code",
   "execution_count": null,
   "metadata": {
    "colab": {
     "base_uri": "https://localhost:8080/",
     "height": 34
    },
    "colab_type": "code",
    "id": "r3vzOXy8rrN_",
    "outputId": "2fed2fdd-7fa8-412e-efbe-4b970c13e2a8"
   },
   "outputs": [],
   "source": []
  },
  {
   "cell_type": "markdown",
   "metadata": {
    "colab_type": "text",
    "id": "yrFK7eaJswIq"
   },
   "source": [
    "# New Section"
   ]
  },
  {
   "cell_type": "code",
   "execution_count": 1152,
   "metadata": {
    "colab": {},
    "colab_type": "code",
    "id": "W_FektIjola6"
   },
   "outputs": [],
   "source": [
    "data = pd.read_csv('ToyotaCorolla.csv')"
   ]
  },
  {
   "cell_type": "code",
   "execution_count": 1153,
   "metadata": {
    "colab": {
     "base_uri": "https://localhost:8080/",
     "height": 252
    },
    "colab_type": "code",
    "id": "nZYDgUsPopI0",
    "outputId": "0c496540-8cb9-4742-fc6d-d7a5cfa0514d"
   },
   "outputs": [
    {
     "name": "stdout",
     "output_type": "stream",
     "text": [
      "      Price  Age     KM FuelType    CC  Weight\n",
      "0     13500   23  46986   Diesel  2000    1165\n",
      "1     13750   23  72937   Diesel  2000    1165\n",
      "2     13950   24  41711   Diesel  2000    1165\n",
      "3     14950   26  48000   Diesel  2000    1165\n",
      "4     13750   30  38500   Diesel  2000    1170\n",
      "...     ...  ...    ...      ...   ...     ...\n",
      "1431   7500   69  20544   Petrol  1300    1025\n",
      "1432  10845   72  19000   Petrol  1300    1015\n",
      "1433   8500   71  17016   Petrol  1300    1015\n",
      "1434   7250   70  16916   Petrol  1300    1015\n",
      "1435   6950   76      1   Petrol  1600    1114\n",
      "\n",
      "[1436 rows x 6 columns]\n"
     ]
    }
   ],
   "source": [
    "print(data)"
   ]
  },
  {
   "cell_type": "markdown",
   "metadata": {
    "colab_type": "text",
    "id": "YpMYt0YiIKFd"
   },
   "source": [
    "# New Section"
   ]
  },
  {
   "cell_type": "code",
   "execution_count": 1154,
   "metadata": {
    "colab": {},
    "colab_type": "code",
    "id": "zpYFQynOwhcl"
   },
   "outputs": [],
   "source": [
    "\n",
    "labelencoder = LabelEncoder()#----------------------------USing label encoder here\n",
    "data['FuelType'] = labelencoder.fit_transform(data['FuelType'])\n"
   ]
  },
  {
   "cell_type": "code",
   "execution_count": 1155,
   "metadata": {
    "colab": {
     "base_uri": "https://localhost:8080/",
     "height": 402
    },
    "colab_type": "code",
    "id": "21ZlBWr1wqsc",
    "outputId": "e527a57d-dca4-4d65-e279-152b0f4e1709"
   },
   "outputs": [
    {
     "data": {
      "text/html": [
       "<div>\n",
       "<style scoped>\n",
       "    .dataframe tbody tr th:only-of-type {\n",
       "        vertical-align: middle;\n",
       "    }\n",
       "\n",
       "    .dataframe tbody tr th {\n",
       "        vertical-align: top;\n",
       "    }\n",
       "\n",
       "    .dataframe thead th {\n",
       "        text-align: right;\n",
       "    }\n",
       "</style>\n",
       "<table border=\"1\" class=\"dataframe\">\n",
       "  <thead>\n",
       "    <tr style=\"text-align: right;\">\n",
       "      <th></th>\n",
       "      <th>Price</th>\n",
       "      <th>Age</th>\n",
       "      <th>KM</th>\n",
       "      <th>FuelType</th>\n",
       "      <th>CC</th>\n",
       "      <th>Weight</th>\n",
       "    </tr>\n",
       "  </thead>\n",
       "  <tbody>\n",
       "    <tr>\n",
       "      <th>0</th>\n",
       "      <td>13500</td>\n",
       "      <td>23</td>\n",
       "      <td>46986</td>\n",
       "      <td>1</td>\n",
       "      <td>2000</td>\n",
       "      <td>1165</td>\n",
       "    </tr>\n",
       "    <tr>\n",
       "      <th>1</th>\n",
       "      <td>13750</td>\n",
       "      <td>23</td>\n",
       "      <td>72937</td>\n",
       "      <td>1</td>\n",
       "      <td>2000</td>\n",
       "      <td>1165</td>\n",
       "    </tr>\n",
       "    <tr>\n",
       "      <th>2</th>\n",
       "      <td>13950</td>\n",
       "      <td>24</td>\n",
       "      <td>41711</td>\n",
       "      <td>1</td>\n",
       "      <td>2000</td>\n",
       "      <td>1165</td>\n",
       "    </tr>\n",
       "    <tr>\n",
       "      <th>3</th>\n",
       "      <td>14950</td>\n",
       "      <td>26</td>\n",
       "      <td>48000</td>\n",
       "      <td>1</td>\n",
       "      <td>2000</td>\n",
       "      <td>1165</td>\n",
       "    </tr>\n",
       "    <tr>\n",
       "      <th>4</th>\n",
       "      <td>13750</td>\n",
       "      <td>30</td>\n",
       "      <td>38500</td>\n",
       "      <td>1</td>\n",
       "      <td>2000</td>\n",
       "      <td>1170</td>\n",
       "    </tr>\n",
       "    <tr>\n",
       "      <th>...</th>\n",
       "      <td>...</td>\n",
       "      <td>...</td>\n",
       "      <td>...</td>\n",
       "      <td>...</td>\n",
       "      <td>...</td>\n",
       "      <td>...</td>\n",
       "    </tr>\n",
       "    <tr>\n",
       "      <th>1431</th>\n",
       "      <td>7500</td>\n",
       "      <td>69</td>\n",
       "      <td>20544</td>\n",
       "      <td>2</td>\n",
       "      <td>1300</td>\n",
       "      <td>1025</td>\n",
       "    </tr>\n",
       "    <tr>\n",
       "      <th>1432</th>\n",
       "      <td>10845</td>\n",
       "      <td>72</td>\n",
       "      <td>19000</td>\n",
       "      <td>2</td>\n",
       "      <td>1300</td>\n",
       "      <td>1015</td>\n",
       "    </tr>\n",
       "    <tr>\n",
       "      <th>1433</th>\n",
       "      <td>8500</td>\n",
       "      <td>71</td>\n",
       "      <td>17016</td>\n",
       "      <td>2</td>\n",
       "      <td>1300</td>\n",
       "      <td>1015</td>\n",
       "    </tr>\n",
       "    <tr>\n",
       "      <th>1434</th>\n",
       "      <td>7250</td>\n",
       "      <td>70</td>\n",
       "      <td>16916</td>\n",
       "      <td>2</td>\n",
       "      <td>1300</td>\n",
       "      <td>1015</td>\n",
       "    </tr>\n",
       "    <tr>\n",
       "      <th>1435</th>\n",
       "      <td>6950</td>\n",
       "      <td>76</td>\n",
       "      <td>1</td>\n",
       "      <td>2</td>\n",
       "      <td>1600</td>\n",
       "      <td>1114</td>\n",
       "    </tr>\n",
       "  </tbody>\n",
       "</table>\n",
       "<p>1436 rows × 6 columns</p>\n",
       "</div>"
      ],
      "text/plain": [
       "      Price  Age     KM  FuelType    CC  Weight\n",
       "0     13500   23  46986         1  2000    1165\n",
       "1     13750   23  72937         1  2000    1165\n",
       "2     13950   24  41711         1  2000    1165\n",
       "3     14950   26  48000         1  2000    1165\n",
       "4     13750   30  38500         1  2000    1170\n",
       "...     ...  ...    ...       ...   ...     ...\n",
       "1431   7500   69  20544         2  1300    1025\n",
       "1432  10845   72  19000         2  1300    1015\n",
       "1433   8500   71  17016         2  1300    1015\n",
       "1434   7250   70  16916         2  1300    1015\n",
       "1435   6950   76      1         2  1600    1114\n",
       "\n",
       "[1436 rows x 6 columns]"
      ]
     },
     "execution_count": 1155,
     "metadata": {},
     "output_type": "execute_result"
    }
   ],
   "source": [
    "data"
   ]
  },
  {
   "cell_type": "code",
   "execution_count": 1156,
   "metadata": {
    "colab": {},
    "colab_type": "code",
    "id": "ZCrM8ggctSK5"
   },
   "outputs": [],
   "source": [
    "y = data.FuelType\n",
    "X = data"
   ]
  },
  {
   "cell_type": "code",
   "execution_count": 1157,
   "metadata": {
    "colab": {},
    "colab_type": "code",
    "id": "VBSsFsl5y73R"
   },
   "outputs": [],
   "source": [
    "X= X.drop(columns=\"FuelType\")"
   ]
  },
  {
   "cell_type": "code",
   "execution_count": 1158,
   "metadata": {
    "colab": {
     "base_uri": "https://localhost:8080/",
     "height": 402
    },
    "colab_type": "code",
    "id": "N5gS73EwzAxL",
    "outputId": "169760e8-3229-4c0b-d757-44b19b8b3ff5"
   },
   "outputs": [
    {
     "data": {
      "text/html": [
       "<div>\n",
       "<style scoped>\n",
       "    .dataframe tbody tr th:only-of-type {\n",
       "        vertical-align: middle;\n",
       "    }\n",
       "\n",
       "    .dataframe tbody tr th {\n",
       "        vertical-align: top;\n",
       "    }\n",
       "\n",
       "    .dataframe thead th {\n",
       "        text-align: right;\n",
       "    }\n",
       "</style>\n",
       "<table border=\"1\" class=\"dataframe\">\n",
       "  <thead>\n",
       "    <tr style=\"text-align: right;\">\n",
       "      <th></th>\n",
       "      <th>Price</th>\n",
       "      <th>Age</th>\n",
       "      <th>KM</th>\n",
       "      <th>CC</th>\n",
       "      <th>Weight</th>\n",
       "    </tr>\n",
       "  </thead>\n",
       "  <tbody>\n",
       "    <tr>\n",
       "      <th>0</th>\n",
       "      <td>13500</td>\n",
       "      <td>23</td>\n",
       "      <td>46986</td>\n",
       "      <td>2000</td>\n",
       "      <td>1165</td>\n",
       "    </tr>\n",
       "    <tr>\n",
       "      <th>1</th>\n",
       "      <td>13750</td>\n",
       "      <td>23</td>\n",
       "      <td>72937</td>\n",
       "      <td>2000</td>\n",
       "      <td>1165</td>\n",
       "    </tr>\n",
       "    <tr>\n",
       "      <th>2</th>\n",
       "      <td>13950</td>\n",
       "      <td>24</td>\n",
       "      <td>41711</td>\n",
       "      <td>2000</td>\n",
       "      <td>1165</td>\n",
       "    </tr>\n",
       "    <tr>\n",
       "      <th>3</th>\n",
       "      <td>14950</td>\n",
       "      <td>26</td>\n",
       "      <td>48000</td>\n",
       "      <td>2000</td>\n",
       "      <td>1165</td>\n",
       "    </tr>\n",
       "    <tr>\n",
       "      <th>4</th>\n",
       "      <td>13750</td>\n",
       "      <td>30</td>\n",
       "      <td>38500</td>\n",
       "      <td>2000</td>\n",
       "      <td>1170</td>\n",
       "    </tr>\n",
       "    <tr>\n",
       "      <th>...</th>\n",
       "      <td>...</td>\n",
       "      <td>...</td>\n",
       "      <td>...</td>\n",
       "      <td>...</td>\n",
       "      <td>...</td>\n",
       "    </tr>\n",
       "    <tr>\n",
       "      <th>1431</th>\n",
       "      <td>7500</td>\n",
       "      <td>69</td>\n",
       "      <td>20544</td>\n",
       "      <td>1300</td>\n",
       "      <td>1025</td>\n",
       "    </tr>\n",
       "    <tr>\n",
       "      <th>1432</th>\n",
       "      <td>10845</td>\n",
       "      <td>72</td>\n",
       "      <td>19000</td>\n",
       "      <td>1300</td>\n",
       "      <td>1015</td>\n",
       "    </tr>\n",
       "    <tr>\n",
       "      <th>1433</th>\n",
       "      <td>8500</td>\n",
       "      <td>71</td>\n",
       "      <td>17016</td>\n",
       "      <td>1300</td>\n",
       "      <td>1015</td>\n",
       "    </tr>\n",
       "    <tr>\n",
       "      <th>1434</th>\n",
       "      <td>7250</td>\n",
       "      <td>70</td>\n",
       "      <td>16916</td>\n",
       "      <td>1300</td>\n",
       "      <td>1015</td>\n",
       "    </tr>\n",
       "    <tr>\n",
       "      <th>1435</th>\n",
       "      <td>6950</td>\n",
       "      <td>76</td>\n",
       "      <td>1</td>\n",
       "      <td>1600</td>\n",
       "      <td>1114</td>\n",
       "    </tr>\n",
       "  </tbody>\n",
       "</table>\n",
       "<p>1436 rows × 5 columns</p>\n",
       "</div>"
      ],
      "text/plain": [
       "      Price  Age     KM    CC  Weight\n",
       "0     13500   23  46986  2000    1165\n",
       "1     13750   23  72937  2000    1165\n",
       "2     13950   24  41711  2000    1165\n",
       "3     14950   26  48000  2000    1165\n",
       "4     13750   30  38500  2000    1170\n",
       "...     ...  ...    ...   ...     ...\n",
       "1431   7500   69  20544  1300    1025\n",
       "1432  10845   72  19000  1300    1015\n",
       "1433   8500   71  17016  1300    1015\n",
       "1434   7250   70  16916  1300    1015\n",
       "1435   6950   76      1  1600    1114\n",
       "\n",
       "[1436 rows x 5 columns]"
      ]
     },
     "execution_count": 1158,
     "metadata": {},
     "output_type": "execute_result"
    }
   ],
   "source": [
    "X#---------viewing dataset"
   ]
  },
  {
   "cell_type": "code",
   "execution_count": 1159,
   "metadata": {
    "colab": {
     "base_uri": "https://localhost:8080/",
     "height": 50
    },
    "colab_type": "code",
    "id": "7MEGuUDwtBZV",
    "outputId": "69b3e0ef-f2c8-4519-a829-e249c2d99fd2"
   },
   "outputs": [
    {
     "name": "stdout",
     "output_type": "stream",
     "text": [
      "(430,)\n",
      "(1006,)\n"
     ]
    }
   ],
   "source": [
    "X_train, X_test, y_train, y_test = train_test_split(X, y,test_size=0.7)#----------splitting dataset for training and testing\n",
    "print(y_train.shape)\n",
    "print(y_test.shape)"
   ]
  },
  {
   "cell_type": "code",
   "execution_count": null,
   "metadata": {
    "colab": {},
    "colab_type": "code",
    "id": "t3V-HYv4BdOa"
   },
   "outputs": [],
   "source": []
  },
  {
   "cell_type": "code",
   "execution_count": 1160,
   "metadata": {
    "colab": {
     "base_uri": "https://localhost:8080/",
     "height": 84
    },
    "colab_type": "code",
    "id": "92PEWfcytLsy",
    "outputId": "61cdf7b6-6c0f-4ebb-ec08-87171248ece9"
   },
   "outputs": [
    {
     "name": "stdout",
     "output_type": "stream",
     "text": [
      "(5, 1000)\n",
      "(430, 5)\n",
      "<class 'numpy.ndarray'>\n",
      "<class 'numpy.ndarray'>\n"
     ]
    }
   ],
   "source": [
    "X_train=pd.DataFrame(X_train).to_numpy()#---------------pandas to numpy datfrme\n",
    "\n",
    "w = np.random.rand(5,1000)*100#------------------------------creating random weight matrix== features X num_neuron #nearon should be greater than feature\n",
    "weights = pd.DataFrame(w)\n",
    "\n",
    "#weights =to_numpy.DataFrame(w)\n",
    "weights=pd.DataFrame(weights).to_numpy()\n",
    "\n",
    "weights_transpose = np.transpose(weights)\n",
    "print(weights.shape)\n",
    "print(X_train.shape)\n",
    "print(type(weights))\n",
    "print(type(X_train))"
   ]
  },
  {
   "cell_type": "code",
   "execution_count": 1161,
   "metadata": {
    "colab": {
     "base_uri": "https://localhost:8080/",
     "height": 134
    },
    "colab_type": "code",
    "id": "sVFL5tVntY3Q",
    "outputId": "dd9e91d2-3b13-400c-b526-8f6481320af9"
   },
   "outputs": [
    {
     "data": {
      "text/plain": [
       "array([[ 13500,     42,  38932,   1600,   1040],\n",
       "       [  7950,     69,  83133,   1300,   1015],\n",
       "       [ 10450,     64, 120400,   1600,   1090],\n",
       "       ...,\n",
       "       [  8950,     76,  89520,   1600,   1050],\n",
       "       [  8450,     70, 124743,   1600,   1050],\n",
       "       [ 18450,     10,  13747,   1400,   1110]], dtype=int64)"
      ]
     },
     "execution_count": 1161,
     "metadata": {},
     "output_type": "execute_result"
    }
   ],
   "source": [
    "X_train"
   ]
  },
  {
   "cell_type": "code",
   "execution_count": 1162,
   "metadata": {
    "colab": {
     "base_uri": "https://localhost:8080/",
     "height": 101
    },
    "colab_type": "code",
    "id": "5B2YgPshtu4y",
    "outputId": "9aa3907b-59c4-4988-cfac-01abe4bd9cc5"
   },
   "outputs": [
    {
     "name": "stdout",
     "output_type": "stream",
     "text": [
      "(1000, 5)\n",
      "(430, 5)\n",
      "<class 'numpy.ndarray'>\n",
      "<class 'numpy.ndarray'>\n",
      "(5, 1000)\n"
     ]
    }
   ],
   "source": [
    "X_train=pd.DataFrame(X_train).to_numpy()\n",
    "\n",
    "w = np.random.rand(1000,5)*100#------------------------------creating random weight matrix== features X num_neuron #nearon should be greater than feature\n",
    "weights = pd.DataFrame(w) \n",
    "\n",
    "#weights =to_numpy.DataFrame(w)\n",
    "weights=pd.DataFrame(weights).to_numpy()\n",
    "\n",
    "weights_t= np.transpose(weights)\n",
    "print(weights.shape)\n",
    "print(X_train.shape)\n",
    "print(type(weights))\n",
    "print(type(X_train))\n",
    "print(weights_t.shape)\n"
   ]
  },
  {
   "cell_type": "code",
   "execution_count": 1163,
   "metadata": {
    "colab": {
     "base_uri": "https://localhost:8080/",
     "height": 34
    },
    "colab_type": "code",
    "id": "RzaCX0H27IsZ",
    "outputId": "a980a9f6-3124-4d94-92d4-58aa504d6aec"
   },
   "outputs": [
    {
     "name": "stdout",
     "output_type": "stream",
     "text": [
      "(430, 1000)\n"
     ]
    }
   ],
   "source": [
    "h_new = np.dot(X_train,weights_t)\n",
    "print(h_new.shape)\n",
    "h_t = np.transpose(h_new)\n",
    "h_tt = np.dot(h_t,h_new)"
   ]
  },
  {
   "cell_type": "code",
   "execution_count": 1164,
   "metadata": {
    "colab": {
     "base_uri": "https://localhost:8080/",
     "height": 34
    },
    "colab_type": "code",
    "id": "vBF31jS_7M8T",
    "outputId": "7b8b1a13-ab60-402e-9712-4abca215408b"
   },
   "outputs": [
    {
     "name": "stdout",
     "output_type": "stream",
     "text": [
      "(1000, 430)\n"
     ]
    }
   ],
   "source": [
    "\n",
    "h_inv = np.linalg.pinv(h_tt)#-----------------finding h invere\n",
    "h_p = np.dot(h_inv,h_t)\n",
    "print(h_p.shape)"
   ]
  },
  {
   "cell_type": "code",
   "execution_count": 1165,
   "metadata": {
    "colab": {},
    "colab_type": "code",
    "id": "tX9YR5t57PkS"
   },
   "outputs": [],
   "source": [
    "beta = np.dot(h_p, y_train)#-----------------------finding beta using dot product"
   ]
  },
  {
   "cell_type": "code",
   "execution_count": 1166,
   "metadata": {
    "colab": {
     "base_uri": "https://localhost:8080/",
     "height": 50
    },
    "colab_type": "code",
    "id": "WFHqY9z77mT3",
    "outputId": "f093bcc1-e9a0-4dbc-b257-b5202956dff2"
   },
   "outputs": [
    {
     "name": "stdout",
     "output_type": "stream",
     "text": [
      "(430, 1000)\n",
      "(1000,)\n"
     ]
    }
   ],
   "source": [
    "h_new[1:10]\n",
    "print(h_new.shape)\n",
    "print(beta.shape)"
   ]
  },
  {
   "cell_type": "code",
   "execution_count": 1167,
   "metadata": {
    "colab": {
     "base_uri": "https://localhost:8080/",
     "height": 67
    },
    "colab_type": "code",
    "id": "pKdV305eE8Vt",
    "outputId": "f3a8d645-1198-4ab8-e842-bec99a45bd59"
   },
   "outputs": [
    {
     "name": "stdout",
     "output_type": "stream",
     "text": [
      "[-3.36868410e-07 -3.33085757e-07 -8.63992023e-08 -1.15208070e-08\n",
      " -4.31866381e-07  3.69409184e-08  7.46856695e-08  4.36240202e-08\n",
      "  3.41427306e-07]\n"
     ]
    }
   ],
   "source": [
    "print(beta[1:10])"
   ]
  },
  {
   "cell_type": "code",
   "execution_count": 1168,
   "metadata": {
    "colab": {
     "base_uri": "https://localhost:8080/",
     "height": 34
    },
    "colab_type": "code",
    "id": "qKK14DVr7qLE",
    "outputId": "bd3d6884-11aa-436c-e5da-b5529b7bffd6"
   },
   "outputs": [
    {
     "name": "stdout",
     "output_type": "stream",
     "text": [
      "(430,)\n"
     ]
    }
   ],
   "source": [
    "predicted_output= np.dot(h_new, beta) #----------------------------------------------------predicting value  here\n",
    "print(predicted_output.shape)"
   ]
  },
  {
   "cell_type": "code",
   "execution_count": 1169,
   "metadata": {
    "colab": {
     "base_uri": "https://localhost:8080/",
     "height": 50
    },
    "colab_type": "code",
    "id": "EREhEM_A_HAL",
    "outputId": "7a06c183-8e32-47f8-c8ea-056bcd75bc0e"
   },
   "outputs": [
    {
     "data": {
      "text/plain": [
       "array([2.04740131, 1.8023068 , 1.76529775, 1.76568129, 1.39798615,\n",
       "       1.84947038, 1.61482888, 1.40362265, 1.98979382])"
      ]
     },
     "execution_count": 1169,
     "metadata": {},
     "output_type": "execute_result"
    }
   ],
   "source": [
    "predicted_output[1:10]"
   ]
  },
  {
   "cell_type": "code",
   "execution_count": 1170,
   "metadata": {
    "colab": {},
    "colab_type": "code",
    "id": "ZIDu61OE7vTV"
   },
   "outputs": [],
   "source": [
    "\n",
    "rounded_labels=np.round(predicted_output)\n",
    "rounded=pd.DataFrame(rounded_labels).to_numpy()\n"
   ]
  },
  {
   "cell_type": "code",
   "execution_count": 1171,
   "metadata": {
    "colab": {
     "base_uri": "https://localhost:8080/",
     "height": 34
    },
    "colab_type": "code",
    "id": "7kHewCLA_RQp",
    "outputId": "ae298d50-b670-48f6-aa0b-e66f27e88b6e"
   },
   "outputs": [
    {
     "data": {
      "text/plain": [
       "array([2., 2., 2., 2., 1., 2., 2., 1., 2.])"
      ]
     },
     "execution_count": 1171,
     "metadata": {},
     "output_type": "execute_result"
    }
   ],
   "source": [
    "rounded_labels[1:10]\n",
    "\n"
   ]
  },
  {
   "cell_type": "markdown",
   "metadata": {
    "colab_type": "text",
    "id": "hpa46wic84g-"
   },
   "source": [
    "## **Final Training Accuracy**\n"
   ]
  },
  {
   "cell_type": "code",
   "execution_count": 1172,
   "metadata": {
    "colab": {
     "base_uri": "https://localhost:8080/",
     "height": 34
    },
    "colab_type": "code",
    "id": "dSaXWVum7xa4",
    "outputId": "885ef902-da49-4ee8-8544-7fbc42f5ace7"
   },
   "outputs": [
    {
     "name": "stdout",
     "output_type": "stream",
     "text": [
      "Training Accuracy is 95.81395348837209 %\n"
     ]
    }
   ],
   "source": [
    "acc = accuracy_score(rounded_labels,y_train)#-----------------------------FInding Training accuracy\n",
    "print(\"Training Accuracy is\", + acc*100, \"%\")\n"
   ]
  },
  {
   "cell_type": "code",
   "execution_count": 1173,
   "metadata": {
    "colab": {},
    "colab_type": "code",
    "id": "yk9bA21173nQ"
   },
   "outputs": [],
   "source": [
    "#--------TESTING accuracy starts here\n",
    "h_new_test = np.dot(X_test,weights_t)\n",
    "predicted_output_test= np.dot(h_new_test, beta)#--------------this beta was calcualated during training"
   ]
  },
  {
   "cell_type": "code",
   "execution_count": 1174,
   "metadata": {
    "colab": {},
    "colab_type": "code",
    "id": "IwChPrHP9gUe"
   },
   "outputs": [],
   "source": [
    "\n",
    "rounded_labels_test=np.round(predicted_output_test)\n",
    "rounded_test=pd.DataFrame(rounded_labels_test).to_numpy()\n"
   ]
  },
  {
   "cell_type": "markdown",
   "metadata": {
    "colab_type": "text",
    "id": "FtgAHUp887iw"
   },
   "source": [
    "## **Final Testing Accuracy**\n"
   ]
  },
  {
   "cell_type": "code",
   "execution_count": 1175,
   "metadata": {
    "colab": {
     "base_uri": "https://localhost:8080/",
     "height": 34
    },
    "colab_type": "code",
    "id": "21MnLfLW9xZX",
    "outputId": "01a8122e-0a36-4c91-ebfb-2518375dcf5a"
   },
   "outputs": [
    {
     "name": "stdout",
     "output_type": "stream",
     "text": [
      "Testing Accuracy is 93.93638170974154 %\n"
     ]
    }
   ],
   "source": [
    "acc_test = accuracy_score(rounded_labels_test,y_test)#-----------------------------FInding Testing accuracy\n",
    "print(\"Testing Accuracy is\", + acc_test*100, \"%\")"
   ]
  },
  {
   "cell_type": "code",
   "execution_count": null,
   "metadata": {
    "colab": {},
    "colab_type": "code",
    "id": "J_-PBff_98YB"
   },
   "outputs": [],
   "source": []
  },
  {
   "cell_type": "code",
   "execution_count": null,
   "metadata": {
    "colab": {},
    "colab_type": "code",
    "id": "BH_ImbAwDRdq"
   },
   "outputs": [],
   "source": []
  },
  {
   "cell_type": "code",
   "execution_count": null,
   "metadata": {
    "colab": {},
    "colab_type": "code",
    "id": "24s45QWxDUOx"
   },
   "outputs": [],
   "source": []
  },
  {
   "cell_type": "code",
   "execution_count": null,
   "metadata": {
    "colab": {},
    "colab_type": "code",
    "id": "9f_BcM3g1p6h"
   },
   "outputs": [],
   "source": []
  },
  {
   "cell_type": "code",
   "execution_count": null,
   "metadata": {
    "colab": {},
    "colab_type": "code",
    "id": "lQOnRIRS2Htt"
   },
   "outputs": [],
   "source": []
  },
  {
   "cell_type": "code",
   "execution_count": null,
   "metadata": {
    "colab": {},
    "colab_type": "code",
    "id": "vTGuxp5W2OZ3"
   },
   "outputs": [],
   "source": []
  },
  {
   "cell_type": "code",
   "execution_count": null,
   "metadata": {
    "colab": {},
    "colab_type": "code",
    "id": "OqUhiomY2QMf"
   },
   "outputs": [],
   "source": []
  }
 ],
 "metadata": {
  "colab": {
   "collapsed_sections": [],
   "name": "Final ELM toyota.ipynb",
   "provenance": []
  },
  "kernelspec": {
   "display_name": "Python 3",
   "language": "python",
   "name": "python3"
  },
  "language_info": {
   "codemirror_mode": {
    "name": "ipython",
    "version": 3
   },
   "file_extension": ".py",
   "mimetype": "text/x-python",
   "name": "python",
   "nbconvert_exporter": "python",
   "pygments_lexer": "ipython3",
   "version": "3.8.1"
  }
 },
 "nbformat": 4,
 "nbformat_minor": 1
}
